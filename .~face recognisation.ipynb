{
 "cells": [
  {
   "cell_type": "code",
   "execution_count": 1,
   "metadata": {},
   "outputs": [],
   "source": [
    "import os\n",
    "import numpy as np\n",
    "import cv2\n",
    "import matplotlib.pyplot as plt"
   ]
  },
  {
   "cell_type": "code",
   "execution_count": 2,
   "metadata": {},
   "outputs": [],
   "source": [
    "idx2name={\n",
    "    \n",
    "}\n",
    "files=os.listdir()\n",
    "pics=[]\n",
    "labels=[]\n",
    "Y=[]\n",
    "cnt=0\n",
    "for f in files:\n",
    "    if f.endswith(\".npy\"):\n",
    "        data=np.load(f)\n",
    "        labels=np.ones(data.shape[0],dtype='int32')*cnt\n",
    "        pics.append(data)\n",
    "        idx2name[cnt]=f[:-4]\n",
    "        Y.append(labels)\n",
    "        cnt+=1"
   ]
  },
  {
   "cell_type": "code",
   "execution_count": 3,
   "metadata": {},
   "outputs": [
    {
     "name": "stdout",
     "output_type": "stream",
     "text": [
      "(80, 100, 100, 3)\n"
     ]
    }
   ],
   "source": [
    "X=np.vstack(pics)\n",
    "print(X.shape)\n"
   ]
  },
  {
   "cell_type": "code",
   "execution_count": 4,
   "metadata": {},
   "outputs": [],
   "source": [
    "Y=np.asarray(Y)\n",
    "Y=Y.reshape(80,)"
   ]
  },
  {
   "cell_type": "code",
   "execution_count": 5,
   "metadata": {},
   "outputs": [
    {
     "data": {
      "text/plain": [
       "array([0, 0, 0, 0, 0, 0, 0, 0, 0, 0, 0, 0, 0, 0, 0, 0, 0, 0, 0, 0, 1, 1,\n",
       "       1, 1, 1, 1, 1, 1, 1, 1, 1, 1, 1, 1, 1, 1, 1, 1, 1, 1, 2, 2, 2, 2,\n",
       "       2, 2, 2, 2, 2, 2, 2, 2, 2, 2, 2, 2, 2, 2, 2, 2, 3, 3, 3, 3, 3, 3,\n",
       "       3, 3, 3, 3, 3, 3, 3, 3, 3, 3, 3, 3, 3, 3])"
      ]
     },
     "execution_count": 5,
     "metadata": {},
     "output_type": "execute_result"
    }
   ],
   "source": [
    "Y"
   ]
  },
  {
   "cell_type": "code",
   "execution_count": 6,
   "metadata": {},
   "outputs": [
    {
     "data": {
      "text/plain": [
       "((80, 100, 100, 3), (80,))"
      ]
     },
     "execution_count": 6,
     "metadata": {},
     "output_type": "execute_result"
    }
   ],
   "source": [
    "X.shape,Y.shape"
   ]
  },
  {
   "cell_type": "code",
   "execution_count": 7,
   "metadata": {},
   "outputs": [],
   "source": [
    "def dist(a,b):\n",
    "    return np.sum((a-b)**2)**.5\n",
    "def knn(X,Y,test_point,k=5):\n",
    "    \n",
    "    #1 find distance from all point\n",
    "    d=[]\n",
    "    m=X.shape[0]\n",
    "    for i in range(m):\n",
    "        curent_dis=dist(X[i],test_point)\n",
    "        d.append((curent_dis,Y[i]))\n",
    "    \n",
    "    d.sort();\n",
    "    d=np.array(d[0:k])\n",
    "    d=d[ :,1]\n",
    "    uniq,occ=np.unique(d,return_counts=True)\n",
    "    print(uniq,occ)\n",
    "    indx=np.argmax(occ)\n",
    "    pred=uniq[indx]\n",
    "\n",
    "    return idx2name[int(pred)]"
   ]
  },
  {
   "cell_type": "code",
   "execution_count": 8,
   "metadata": {},
   "outputs": [],
   "source": [
    "test_point=X[45]"
   ]
  },
  {
   "cell_type": "code",
   "execution_count": 9,
   "metadata": {},
   "outputs": [
    {
     "name": "stdout",
     "output_type": "stream",
     "text": [
      "[2.] [5]\n"
     ]
    },
    {
     "data": {
      "text/plain": [
       "'rk'"
      ]
     },
     "execution_count": 9,
     "metadata": {},
     "output_type": "execute_result"
    }
   ],
   "source": [
    "knn(X,Y,test_point)"
   ]
  },
  {
   "cell_type": "code",
   "execution_count": 10,
   "metadata": {},
   "outputs": [],
   "source": [
    "camera=cv2.VideoCapture(0)"
   ]
  },
  {
   "cell_type": "code",
   "execution_count": 11,
   "metadata": {},
   "outputs": [
    {
     "name": "stdout",
     "output_type": "stream",
     "text": [
      "[3.] [5]\n",
      "[3.] [5]\n",
      "[3.] [5]\n",
      "[3.] [5]\n",
      "[3.] [5]\n",
      "[3.] [5]\n",
      "[3.] [5]\n",
      "[3.] [5]\n",
      "[3.] [5]\n",
      "[3.] [5]\n",
      "[3.] [5]\n",
      "[3.] [5]\n",
      "[3.] [5]\n",
      "[3.] [5]\n",
      "[3.] [5]\n",
      "[3.] [5]\n",
      "[3.] [5]\n",
      "[3.] [5]\n",
      "[3.] [5]\n",
      "[3.] [5]\n",
      "[3.] [5]\n",
      "[3.] [5]\n",
      "[3.] [5]\n",
      "[3.] [5]\n",
      "[3.] [5]\n",
      "[3.] [5]\n",
      "[3.] [5]\n",
      "[3.] [5]\n",
      "[3.] [5]\n",
      "[3.] [5]\n",
      "[3.] [5]\n",
      "[3.] [5]\n",
      "[3.] [5]\n",
      "[3.] [5]\n",
      "[3.] [5]\n",
      "[3.] [5]\n",
      "[3.] [5]\n",
      "[3.] [5]\n",
      "[3.] [5]\n",
      "[3.] [5]\n",
      "[3.] [5]\n",
      "[3.] [5]\n",
      "[3.] [5]\n",
      "[3.] [5]\n",
      "[3.] [5]\n",
      "[3.] [5]\n",
      "[3.] [5]\n",
      "[3.] [5]\n",
      "[3.] [5]\n",
      "[3.] [5]\n",
      "[3.] [5]\n",
      "[3.] [5]\n",
      "[3.] [5]\n",
      "[3.] [5]\n",
      "[3.] [5]\n",
      "[3.] [5]\n",
      "[3.] [5]\n",
      "[3.] [5]\n",
      "[0. 3.] [1 4]\n",
      "[0. 3.] [1 4]\n",
      "[0. 3.] [1 4]\n",
      "[3.] [5]\n",
      "[3.] [5]\n",
      "[3.] [5]\n",
      "[3.] [5]\n",
      "[0. 3.] [1 4]\n",
      "[3.] [5]\n",
      "[3.] [5]\n",
      "[3.] [5]\n",
      "[0. 3.] [1 4]\n",
      "[0. 3.] [1 4]\n",
      "[0. 3.] [1 4]\n",
      "[3.] [5]\n",
      "[3.] [5]\n",
      "[3.] [5]\n",
      "[0. 3.] [1 4]\n",
      "[3.] [5]\n",
      "[3.] [5]\n",
      "[0. 3.] [2 3]\n",
      "[0. 3.] [2 3]\n",
      "[0. 3.] [2 3]\n",
      "[3.] [5]\n",
      "[3.] [5]\n",
      "[3.] [5]\n",
      "[3.] [5]\n",
      "[3.] [5]\n",
      "[3.] [5]\n",
      "[3.] [5]\n",
      "[3.] [5]\n",
      "[3.] [5]\n",
      "[0. 3.] [2 3]\n",
      "[0. 3.] [2 3]\n",
      "[0. 3.] [2 3]\n",
      "[0. 3.] [2 3]\n",
      "[0. 2. 3.] [3 1 1]\n",
      "[0. 2. 3.] [3 1 1]\n",
      "[0. 3.] [4 1]\n",
      "[0. 2. 3.] [3 1 1]\n",
      "[0. 2. 3.] [3 1 1]\n",
      "[0. 2. 3.] [2 2 1]\n",
      "[0. 2. 3.] [2 2 1]\n",
      "[0. 2.] [4 1]\n",
      "[0. 3.] [4 1]\n",
      "[0. 3.] [4 1]\n",
      "[3.] [5]\n",
      "[3.] [5]\n",
      "[3.] [5]\n",
      "[3.] [5]\n",
      "[0. 2. 3.] [3 1 1]\n",
      "[0. 2. 3.] [3 1 1]\n",
      "[0. 2. 3.] [3 1 1]\n",
      "[3.] [5]\n",
      "[3.] [5]\n",
      "[0. 2. 3.] [3 1 1]\n",
      "[0. 3.] [4 1]\n",
      "[0. 3.] [4 1]\n",
      "[0. 2. 3.] [3 1 1]\n",
      "[0. 2. 3.] [3 1 1]\n",
      "[0. 2. 3.] [3 1 1]\n",
      "[0. 2. 3.] [3 1 1]\n",
      "[3.] [5]\n",
      "[3.] [5]\n",
      "[3.] [5]\n",
      "[3.] [5]\n",
      "[0. 2. 3.] [3 1 1]\n",
      "[0. 2. 3.] [3 1 1]\n",
      "[3.] [5]\n",
      "[0. 3.] [4 1]\n",
      "[0. 3.] [4 1]\n",
      "[0. 3.] [4 1]\n",
      "[0. 3.] [4 1]\n",
      "[0. 3.] [4 1]\n",
      "[0. 3.] [4 1]\n",
      "[0. 3.] [4 1]\n",
      "[0. 3.] [4 1]\n",
      "[0. 3.] [4 1]\n",
      "[3.] [5]\n",
      "[0. 3.] [4 1]\n",
      "[0. 3.] [4 1]\n",
      "[0. 3.] [4 1]\n",
      "[0. 3.] [4 1]\n",
      "[0. 3.] [4 1]\n",
      "[0. 3.] [4 1]\n",
      "[0. 3.] [4 1]\n",
      "[0. 3.] [4 1]\n",
      "[0. 3.] [4 1]\n",
      "[0. 3.] [4 1]\n",
      "[0. 3.] [4 1]\n",
      "[0. 3.] [4 1]\n",
      "[0. 3.] [4 1]\n",
      "[0. 3.] [4 1]\n",
      "[0. 3.] [4 1]\n",
      "[0. 3.] [4 1]\n",
      "[0. 3.] [4 1]\n",
      "[0. 3.] [4 1]\n",
      "[0. 3.] [4 1]\n",
      "[0. 3.] [4 1]\n",
      "[0. 3.] [4 1]\n",
      "[0. 3.] [4 1]\n",
      "[0. 3.] [4 1]\n",
      "[0. 3.] [4 1]\n",
      "[0. 3.] [4 1]\n",
      "[0. 3.] [4 1]\n",
      "[0. 3.] [4 1]\n",
      "[0. 3.] [4 1]\n",
      "[0. 3.] [4 1]\n",
      "[0. 3.] [4 1]\n",
      "[0. 3.] [4 1]\n",
      "[0. 2. 3.] [3 1 1]\n",
      "[0. 2. 3.] [3 1 1]\n",
      "[0. 3.] [4 1]\n",
      "[0. 3.] [4 1]\n",
      "[0. 3.] [4 1]\n",
      "[0. 3.] [4 1]\n",
      "[0. 3.] [4 1]\n",
      "[0. 3.] [4 1]\n",
      "[0. 2. 3.] [3 1 1]\n",
      "[0. 2. 3.] [3 1 1]\n",
      "[0. 2. 3.] [3 1 1]\n",
      "[0. 2. 3.] [3 1 1]\n",
      "[0. 2. 3.] [3 1 1]\n",
      "[3.] [5]\n",
      "[3.] [5]\n",
      "[3.] [5]\n",
      "[3.] [5]\n",
      "[3.] [5]\n",
      "[3.] [5]\n",
      "[3.] [5]\n",
      "[3.] [5]\n",
      "[0. 3.] [1 4]\n",
      "[3.] [5]\n",
      "[3.] [5]\n",
      "[3.] [5]\n",
      "[3.] [5]\n",
      "[3.] [5]\n",
      "[0. 3.] [4 1]\n",
      "[3.] [5]\n",
      "[3.] [5]\n",
      "[2. 3.] [4 1]\n",
      "[2. 3.] [4 1]\n",
      "[3.] [5]\n",
      "[0. 3.] [1 4]\n",
      "[0. 3.] [1 4]\n",
      "[3.] [5]\n",
      "[3.] [5]\n",
      "[3.] [5]\n",
      "[2. 3.] [4 1]\n",
      "(4, 20, 100, 100, 3)\n"
     ]
    },
    {
     "ename": "NameError",
     "evalue": "name 'name' is not defined",
     "output_type": "error",
     "traceback": [
      "\u001b[1;31m---------------------------------------------------------------------------\u001b[0m",
      "\u001b[1;31mNameError\u001b[0m                                 Traceback (most recent call last)",
      "\u001b[1;32m<ipython-input-11-f8ebc1a0e3cb>\u001b[0m in \u001b[0;36m<module>\u001b[1;34m\u001b[0m\n\u001b[0;32m     35\u001b[0m \u001b[0mprint\u001b[0m\u001b[1;33m(\u001b[0m\u001b[0mpics\u001b[0m\u001b[1;33m.\u001b[0m\u001b[0mshape\u001b[0m\u001b[1;33m)\u001b[0m\u001b[1;33m\u001b[0m\u001b[1;33m\u001b[0m\u001b[0m\n\u001b[0;32m     36\u001b[0m \u001b[1;33m\u001b[0m\u001b[0m\n\u001b[1;32m---> 37\u001b[1;33m \u001b[0mnp\u001b[0m\u001b[1;33m.\u001b[0m\u001b[0msave\u001b[0m\u001b[1;33m(\u001b[0m\u001b[0mname\u001b[0m\u001b[1;33m+\u001b[0m\u001b[1;34m\".npy\"\u001b[0m\u001b[1;33m,\u001b[0m\u001b[0mpics\u001b[0m\u001b[1;33m)\u001b[0m\u001b[1;33m\u001b[0m\u001b[1;33m\u001b[0m\u001b[0m\n\u001b[0m\u001b[0;32m     38\u001b[0m \u001b[0mprint\u001b[0m\u001b[1;33m(\u001b[0m\u001b[1;34m\"Images saved to disk\"\u001b[0m\u001b[1;33m)\u001b[0m\u001b[1;33m\u001b[0m\u001b[1;33m\u001b[0m\u001b[0m\n\u001b[0;32m     39\u001b[0m \u001b[1;33m\u001b[0m\u001b[0m\n",
      "\u001b[1;31mNameError\u001b[0m: name 'name' is not defined"
     ]
    }
   ],
   "source": [
    "facedetector=cv2.CascadeClassifier('facetmp.xml')\n",
    "while True:\n",
    "    b,img=camera.read()\n",
    "    \n",
    "    if b==False:\n",
    "        continue\n",
    "    #detect face\n",
    "    faces=facedetector.detectMultiScale(img,1.3,5)\n",
    "    #no facesc detected\n",
    "    if(len(faces)==0):\n",
    "        continue\n",
    "    \n",
    "    #draw a bounding box\n",
    "    for f in faces:\n",
    "    \n",
    "        green=(255,0,0)\n",
    "    \n",
    "        x,y,w,h=faces[0]\n",
    "        cv2.rectangle(img,(x,y),(x+w,y+h),green,5)\n",
    "        cropped_faces=img[y:y+h,x:x+w]\n",
    "        cropped_faces = cv2.resize(cropped_faces,(100,100))\n",
    "        pred=knn(X,Y,cropped_faces)\n",
    "        cv2.putText(img, pred, (x, y-20), cv2.FONT_HERSHEY_SIMPLEX, 1.0, (255, 255, 255), lineType=cv2.LINE_AA) \n",
    " \n",
    "    cv2.imshow(\"Title\",img)\n",
    "    #Add some delay 1 ms between 2 frames\n",
    "    key=cv2.waitKey(1)&0xFF\n",
    "    if key==ord('q'):\n",
    "        break\n",
    "    \n",
    "camera.release()\n",
    "cv2.destroyAllWindows()\n",
    "\n",
    "pics = np.array(pics)\n",
    "print(pics.shape)\n",
    "\n",
    "np.save(name+\".npy\",pics)\n",
    "print(\"Images saved to disk\")\n",
    "\n"
   ]
  },
  {
   "cell_type": "code",
   "execution_count": null,
   "metadata": {},
   "outputs": [],
   "source": []
  },
  {
   "cell_type": "code",
   "execution_count": null,
   "metadata": {},
   "outputs": [],
   "source": []
  }
 ],
 "metadata": {
  "kernelspec": {
   "display_name": "Python 3",
   "language": "python",
   "name": "python3"
  },
  "language_info": {
   "codemirror_mode": {
    "name": "ipython",
    "version": 3
   },
   "file_extension": ".py",
   "mimetype": "text/x-python",
   "name": "python",
   "nbconvert_exporter": "python",
   "pygments_lexer": "ipython3",
   "version": "3.7.4"
  }
 },
 "nbformat": 4,
 "nbformat_minor": 2
}
